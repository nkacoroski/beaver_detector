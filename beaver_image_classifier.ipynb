{
 "cells": [
  {
   "cell_type": "markdown",
   "metadata": {},
   "source": [
    "# Beaver Image Classifier"
   ]
  },
  {
   "cell_type": "markdown",
   "metadata": {},
   "source": [
    "## Set Up Environment"
   ]
  },
  {
   "cell_type": "code",
   "execution_count": 1,
   "metadata": {},
   "outputs": [],
   "source": [
    "from __future__ import absolute_import, division, print_function, unicode_literals\n",
    "\n",
    "!pip install -q tensorflow==2.0.0-beta1\n",
    "import tensorflow as tf"
   ]
  },
  {
   "cell_type": "code",
   "execution_count": 2,
   "metadata": {},
   "outputs": [],
   "source": [
    "AUTOTUNE = tf.data.experimental.AUTOTUNE"
   ]
  },
  {
   "cell_type": "markdown",
   "metadata": {},
   "source": [
    "## Make Dataset"
   ]
  },
  {
   "cell_type": "code",
   "execution_count": null,
   "metadata": {},
   "outputs": [],
   "source": []
  },
  {
   "cell_type": "code",
   "execution_count": 2,
   "metadata": {},
   "outputs": [],
   "source": [
    "# to take subset of 100 photos\n",
    "\n",
    "#filenames = random.sample(os.listdir(\"/Users/nkacoroski/Flatiron/module_4/beaver_image_annotator/images\"), 100)\n",
    "#for fname in filenames:\n",
    "#    srcpath = os.path.join(\"/Users/nkacoroski/Flatiron/module_4/beaver_image_annotator/images\", fname)\n",
    "#    shutil.copy(srcpath, \"/Users/nkacoroski/Flatiron/module_4/beaver_image_annotator/images_small\")"
   ]
  },
  {
   "cell_type": "code",
   "execution_count": 3,
   "metadata": {},
   "outputs": [],
   "source": [
    "# test set 50 photos\n",
    "\n",
    "filenames = random.sample(os.listdir(\"/Users/nkacoroski/Flatiron/module_4/beaver_image_annotator/images\"), 100)\n",
    "for fname in filenames:\n",
    "    srcpath = os.path.join(\"/Users/nkacoroski/Flatiron/module_4/beaver_image_annotator/images\", fname)\n",
    "    shutil.copy(srcpath, \"/Users/nkacoroski/Flatiron/module_4/beaver_image_annotator/test_small\")"
   ]
  },
  {
   "cell_type": "code",
   "execution_count": null,
   "metadata": {},
   "outputs": [],
   "source": []
  }
 ],
 "metadata": {
  "kernelspec": {
   "display_name": "learn-env",
   "language": "python",
   "name": "learn-env"
  },
  "language_info": {
   "codemirror_mode": {
    "name": "ipython",
    "version": 3
   },
   "file_extension": ".py",
   "mimetype": "text/x-python",
   "name": "python",
   "nbconvert_exporter": "python",
   "pygments_lexer": "ipython3",
   "version": "3.7.3"
  }
 },
 "nbformat": 4,
 "nbformat_minor": 2
}
