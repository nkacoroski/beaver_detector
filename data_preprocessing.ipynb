{
 "cells": [
  {
   "cell_type": "markdown",
   "metadata": {},
   "source": [
    "# Data Preprocessing"
   ]
  },
  {
   "cell_type": "markdown",
   "metadata": {},
   "source": [
    "The data needs to be preprocessed before being used for any machine learning algorithms. Some of the datetimes are incorrect, all images need to be given unique names, and information bars need to be cropped out."
   ]
  },
  {
   "cell_type": "code",
   "execution_count": 156,
   "metadata": {},
   "outputs": [],
   "source": [
    "from image_preprocessing import *\n",
    "import os\n",
    "import re\n",
    "import datetime\n",
    "from PIL import Image\n",
    "import piexif"
   ]
  },
  {
   "cell_type": "markdown",
   "metadata": {},
   "source": [
    "## Datetime Correction\n",
    "Images from the Browning camera initially had incorrect datetimes. To calculate the change in datetime, I looked at the datetimes between a trigger image series of incorrect and corrected datetimes. "
   ]
  },
  {
   "cell_type": "code",
   "execution_count": 120,
   "metadata": {},
   "outputs": [
    {
     "data": {
      "text/plain": [
       "datetime.timedelta(517, 74760)"
      ]
     },
     "execution_count": 120,
     "metadata": {},
     "output_type": "execute_result"
    }
   ],
   "source": [
    "time_delta = datetime.datetime(2019, 6, 30, 10, 9, 0) - datetime.datetime(2018, 1, 28, 13, 23, 0)\n",
    "time_delta"
   ]
  },
  {
   "cell_type": "markdown",
   "metadata": {},
   "source": [
    "Images from the Reconyx camera also initially had incorrect datetimes. I only have information for each day, so the times may always be incorrect. Looking at light in the images, the times seem to match up reasonably well. Following is the change in days to correct Reconyx images."
   ]
  },
  {
   "cell_type": "code",
   "execution_count": 121,
   "metadata": {},
   "outputs": [
    {
     "data": {
      "text/plain": [
       "datetime.timedelta(464)"
      ]
     },
     "execution_count": 121,
     "metadata": {},
     "output_type": "execute_result"
    }
   ],
   "source": [
    "time_delta = datetime.datetime(2019, 4, 11, 3, 38, 0) - datetime.datetime(2018, 1, 2, 3, 38, 0)\n",
    "time_delta"
   ]
  },
  {
   "cell_type": "markdown",
   "metadata": {},
   "source": [
    "Using the change_datetimes function, I corrected the image datetimes by moving images in and out of the data directory. This function will also be useful to adjust datetimes for daylight savings time."
   ]
  },
  {
   "cell_type": "code",
   "execution_count": 18,
   "metadata": {},
   "outputs": [],
   "source": [
    "active_dir = None\n",
    "for image in os.listdir(active_dir):\n",
    "    change_datetimes(active_dir + image, time_delta)"
   ]
  },
  {
   "cell_type": "markdown",
   "metadata": {},
   "source": [
    "## Unique Naming\n",
    "I decided to name by site (s1), camera (c1 = Reconyx, c2 = Browning), datetime, and unique number. I need a unique number because the smallest datetime units given by images are seconds and some images share the same datetime."
   ]
  },
  {
   "cell_type": "code",
   "execution_count": 23,
   "metadata": {},
   "outputs": [],
   "source": [
    "image = \"./data/RCNX0037.jpg\""
   ]
  },
  {
   "cell_type": "code",
   "execution_count": 117,
   "metadata": {},
   "outputs": [],
   "source": [
    "def rename_image(image_path):\n",
    "    \"\"\"Take in image path and rename image by site, camera, and datetime.\"\"\"\n",
    "    # Get image datetime.\n",
    "    with open(image_path, 'rb') as image_file:\n",
    "        image = Image(image_file)\n",
    "    dt_str = image.datetime\n",
    "    dt = datetime.datetime.strptime(dt_str, '%Y:%m:%d %H:%M:%S')\n",
    "    new_dt_str = dt.strftime(\"%Y%m%d%H%M%S\")\n",
    "    camera = \"\"\n",
    "    if image_path.startswith('IMG'):\n",
    "        camera += 'c2'\n",
    "    else:\n",
    "        camera += 'c1'\n",
    "    name = \"./data/s1\" + camera + \"_\" + new_dt_str + \".jpg\"\n",
    "    try:\n",
    "        os.rename(image_path, name)\n",
    "    except:\n",
    "        \n",
    "        new_dt_str = (dt + datetime.timedelta(0, 1)).strftime(\"%Y%m%d%H%M%S\")\n",
    "        name = \"./data/s1\" + camera + \"_\" + new_dt_str + \".jpg\"\n",
    "        os.rename(image_path, name)\n",
    "    print(f\"{image_path[7::]} renamed!\")"
   ]
  },
  {
   "cell_type": "code",
   "execution_count": 118,
   "metadata": {},
   "outputs": [
    {
     "name": "stdout",
     "output_type": "stream",
     "text": [
      "RCNX0212.JPG renamed!\n",
      "RCNX0213.JPG renamed!\n",
      "RCNX0214.JPG renamed!\n",
      "RCNX0215.JPG renamed!\n",
      "RCNX0216.JPG renamed!\n",
      "RCNX0217.JPG renamed!\n",
      "RCNX0218.JPG renamed!\n",
      "RCNX0219.JPG renamed!\n",
      "RCNX0220.JPG renamed!\n",
      "RCNX0221.JPG renamed!\n",
      "RCNX0222.JPG renamed!\n",
      "RCNX0223.JPG renamed!\n"
     ]
    },
    {
     "ename": "FileExistsError",
     "evalue": "[WinError 183] Cannot create a file when that file already exists: './data/RCNX0224.JPG' -> './data/s1c1_20190527033304.jpg'",
     "output_type": "error",
     "traceback": [
      "\u001b[1;31m---------------------------------------------------------------------------\u001b[0m",
      "\u001b[1;31mFileExistsError\u001b[0m                           Traceback (most recent call last)",
      "\u001b[1;32m<ipython-input-117-8ea9cd1db2af>\u001b[0m in \u001b[0;36mrename_image\u001b[1;34m(image_path)\u001b[0m\n\u001b[0;32m     15\u001b[0m     \u001b[1;32mtry\u001b[0m\u001b[1;33m:\u001b[0m\u001b[1;33m\u001b[0m\u001b[0m\n\u001b[1;32m---> 16\u001b[1;33m         \u001b[0mos\u001b[0m\u001b[1;33m.\u001b[0m\u001b[0mrename\u001b[0m\u001b[1;33m(\u001b[0m\u001b[0mimage_path\u001b[0m\u001b[1;33m,\u001b[0m \u001b[0mname\u001b[0m\u001b[1;33m)\u001b[0m\u001b[1;33m\u001b[0m\u001b[0m\n\u001b[0m\u001b[0;32m     17\u001b[0m     \u001b[1;32mexcept\u001b[0m\u001b[1;33m:\u001b[0m\u001b[1;33m\u001b[0m\u001b[0m\n",
      "\u001b[1;31mFileExistsError\u001b[0m: [WinError 183] Cannot create a file when that file already exists: './data/RCNX0224.JPG' -> './data/s1c1_20190527033303.jpg'",
      "\nDuring handling of the above exception, another exception occurred:\n",
      "\u001b[1;31mFileExistsError\u001b[0m                           Traceback (most recent call last)",
      "\u001b[1;32m<ipython-input-118-77cd18b2da4a>\u001b[0m in \u001b[0;36m<module>\u001b[1;34m()\u001b[0m\n\u001b[0;32m      1\u001b[0m \u001b[0mactive_dir\u001b[0m \u001b[1;33m=\u001b[0m \u001b[1;34m\"./data/\"\u001b[0m\u001b[1;33m\u001b[0m\u001b[0m\n\u001b[0;32m      2\u001b[0m \u001b[1;32mfor\u001b[0m \u001b[0mimage\u001b[0m \u001b[1;32min\u001b[0m \u001b[0mos\u001b[0m\u001b[1;33m.\u001b[0m\u001b[0mlistdir\u001b[0m\u001b[1;33m(\u001b[0m\u001b[0mactive_dir\u001b[0m\u001b[1;33m)\u001b[0m\u001b[1;33m:\u001b[0m\u001b[1;33m\u001b[0m\u001b[0m\n\u001b[1;32m----> 3\u001b[1;33m     \u001b[0mrename_image\u001b[0m\u001b[1;33m(\u001b[0m\u001b[0mactive_dir\u001b[0m \u001b[1;33m+\u001b[0m \u001b[0mimage\u001b[0m\u001b[1;33m)\u001b[0m\u001b[1;33m\u001b[0m\u001b[0m\n\u001b[0m",
      "\u001b[1;32m<ipython-input-117-8ea9cd1db2af>\u001b[0m in \u001b[0;36mrename_image\u001b[1;34m(image_path)\u001b[0m\n\u001b[0;32m     18\u001b[0m         \u001b[0mnew_dt_str\u001b[0m \u001b[1;33m=\u001b[0m \u001b[1;33m(\u001b[0m\u001b[0mdt\u001b[0m \u001b[1;33m+\u001b[0m \u001b[0mdatetime\u001b[0m\u001b[1;33m.\u001b[0m\u001b[0mtimedelta\u001b[0m\u001b[1;33m(\u001b[0m\u001b[1;36m0\u001b[0m\u001b[1;33m,\u001b[0m \u001b[1;36m1\u001b[0m\u001b[1;33m)\u001b[0m\u001b[1;33m)\u001b[0m\u001b[1;33m.\u001b[0m\u001b[0mstrftime\u001b[0m\u001b[1;33m(\u001b[0m\u001b[1;34m\"%Y%m%d%H%M%S\"\u001b[0m\u001b[1;33m)\u001b[0m\u001b[1;33m\u001b[0m\u001b[0m\n\u001b[0;32m     19\u001b[0m         \u001b[0mname\u001b[0m \u001b[1;33m=\u001b[0m \u001b[1;34m\"./data/s1\"\u001b[0m \u001b[1;33m+\u001b[0m \u001b[0mcamera\u001b[0m \u001b[1;33m+\u001b[0m \u001b[1;34m\"_\"\u001b[0m \u001b[1;33m+\u001b[0m \u001b[0mnew_dt_str\u001b[0m \u001b[1;33m+\u001b[0m \u001b[1;34m\".jpg\"\u001b[0m\u001b[1;33m\u001b[0m\u001b[0m\n\u001b[1;32m---> 20\u001b[1;33m         \u001b[0mos\u001b[0m\u001b[1;33m.\u001b[0m\u001b[0mrename\u001b[0m\u001b[1;33m(\u001b[0m\u001b[0mimage_path\u001b[0m\u001b[1;33m,\u001b[0m \u001b[0mname\u001b[0m\u001b[1;33m)\u001b[0m\u001b[1;33m\u001b[0m\u001b[0m\n\u001b[0m\u001b[0;32m     21\u001b[0m     \u001b[0mprint\u001b[0m\u001b[1;33m(\u001b[0m\u001b[1;34mf\"{image_path[7::]} renamed!\"\u001b[0m\u001b[1;33m)\u001b[0m\u001b[1;33m\u001b[0m\u001b[0m\n",
      "\u001b[1;31mFileExistsError\u001b[0m: [WinError 183] Cannot create a file when that file already exists: './data/RCNX0224.JPG' -> './data/s1c1_20190527033304.jpg'"
     ]
    }
   ],
   "source": [
    "active_dir = \"./data/\"\n",
    "for image in os.listdir(active_dir):\n",
    "    rename_image(active_dir + image)"
   ]
  },
  {
   "cell_type": "code",
   "execution_count": 124,
   "metadata": {},
   "outputs": [
    {
     "data": {
      "text/plain": [
       "'20190101025959000000'"
      ]
     },
     "execution_count": 124,
     "metadata": {},
     "output_type": "execute_result"
    }
   ],
   "source": [
    "dt_str = \"2019:01:01 2:59:59\"\n",
    "\n",
    "\n",
    "dt = datetime.datetime.strptime(dt_str, '%Y:%m:%d %H:%M:%S')\n",
    "new_dt_str = (dt).strftime(\"%Y%m%d%H%M%S%f\")\n",
    "new_dt_str"
   ]
  },
  {
   "cell_type": "code",
   "execution_count": 135,
   "metadata": {},
   "outputs": [
    {
     "data": {
      "text/plain": [
       "'20190527033303000000'"
      ]
     },
     "execution_count": 135,
     "metadata": {},
     "output_type": "execute_result"
    }
   ],
   "source": [
    "image_path = \"./data/RCNX0224.JPG\"\n",
    "with open(image_path, 'rb') as image_file:\n",
    "        image = Image(image_file)\n",
    "dt_str = image.datetime\n",
    "dt = datetime.datetime.strptime(dt_str, '%Y:%m:%d %H:%M:%S')\n",
    "new_dt_str = (dt + time).strftime(\"%Y%m%d%H%M%S%f\")\n",
    "new_dt_str"
   ]
  },
  {
   "cell_type": "code",
   "execution_count": 183,
   "metadata": {},
   "outputs": [],
   "source": [
    "# open image\n",
    "img = Image.open(image_path)\n",
    "# load exif data into dictionary\n",
    "exif_dict = piexif.load(img.info['exif'])\n",
    "# generate updated datetime\n",
    "old_dt_str = exif_dict[\"0th\"][306]\n",
    "print(old_dt_str)"
   ]
  },
  {
   "cell_type": "code",
   "execution_count": 184,
   "metadata": {},
   "outputs": [
    {
     "data": {
      "text/plain": [
       "{'0th': {271: b'RECONYX',\n",
       "  272: b'HYPERFIRE 2 COVERT\\x00',\n",
       "  282: (72, 1),\n",
       "  283: (72, 1),\n",
       "  296: 2,\n",
       "  306: b'2019:01:01 1:20:00',\n",
       "  531: 2,\n",
       "  34665: 173},\n",
       " 'Exif': {33434: (25, 9600),\n",
       "  34855: 100,\n",
       "  36864: b'0220',\n",
       "  36867: b'2019:01:01 1:20:00',\n",
       "  36868: b'2019:01:01 1:20:00',\n",
       "  37121: b'\\x01\\x02\\x03\\x00',\n",
       "  37385: 25,\n",
       "  37500: b'RECONYXH2\\x00\\x01\\xce\\x00\\x00\\x00\\x00\\xe0\\x00d\\x00\\xbaN\\x91\\xa4\\x12\\x01\\x1a\\x98\\xd2|\\x13G23AYAP\\x01\\x00\\x01\\xc1\\x01\\x00\\x04\\x00a\\x00\\x18 $\\x08M\\x00\\x07\\x00\\n\\x00\\x00\\x00\\x06\\x00\\x03\\x00!\\x00\\x03\\x00\\x05\\x00\\x1b\\x00\\xe3\\x07\\x02\\x00\\x06\\x005\\x00\\x0c\\x00\\x80\\x00\\x00\\x00 \\x00\\x00\\x00\\x01\\x00\\x00\\x00\\x00\\x00Z\\x00\\x0f\\x10F\\x1e\\x01\\x00HYPERFIRE 2 COVERT\\x00\\x00\\x00\\x00H\\x002\\x00R\\x00X\\x00E\\x00L\\x001\\x002\\x000\\x002\\x007\\x007\\x003\\x006\\x00\\x00\\x00\\x00\\x00\\x00\\x00\\x00\\x00\\x00\\x00\\x00\\x00\\x00\\x00\\x00\\x00\\x00\\x00\\x00\\x00\\x00\\x00\\x00\\x00\\x00\\x00\\x00\\x00\\x00\\x00\\x00\\x00\\x00\\x00\\x00\\x00\\x01\\xc2\\x07\\x00\\n\\x01\\x01\\x00\\n\\x00\\x00\\x00\\n\\x00\\x14\\x00<\\x00\\x04\\x00\\x01\\x00\\x00\\x00\\x00\\x00\\x00\\x00\\x00\\x00\\x00\\x00\\x00\\x00\\x00\\x00\\x00\\x00\\x00\\x00\\x00\\x00\\x00\\x00\\x00\\x00\\x00\\x00\\x00\\x00\\x00\\x00\\x00\\x00\\x00\\x00\\x00\\x00\\x00\\x00\\x00\\x00\\x00\\x00\\x00\\x00\\x00\\x00\\x00\\x00\\x00\\x00\\x00\\x00\\x00\\x00\\x00\\x00\\x00\\x00\\x00\\x00\\x00\\x00\\x00\\x00\\x00\\x00\\x00\\x00\\x00\\x00\\x00\\x00\\x00\\x00\\x00\\x00\\x00\\x00\\x00\\x00\\x00\\x00\\x01\\x00\\x01\\x00\\x01\\x00\\xe8\\x03\\n\\x00\\x14\\x00\\x01\\x00\\x00\\x00\\xe2\\xffZ\\x00\\xff\\x02\\x00\\x00\\xa6\\xff\\x1e\\x00\\x7f\\x05\\x00\\x00\\x00\\x00\\x00\\x00\\x00\\x00\\x00\\x00\\x00\\x00\\x00\\x00\\x00\\x00\\x00\\x00\\x00\\x00\\x00\\x00\\x00\\x00\\x00\\x00\\x00\\x00\\x00\\x00\\x00\\x00\\x00\\x00\\x00\\x00\\x00\\x00\\x00\\x00\\x00\\x00\\x00\\x00\\x00\\x00\\x00\\x00\\x00\\x00\\x00\\x00\\x00\\x00\\x00\\x00\\x00\\x00\\x00\\x00\\x00\\x00\\x00\\x00\\x00\\x00\\x00\\x00\\x00\\x00\\x00\\x00\\x00\\x00\\x00\\x00\\x00\\x00\\x00\\x00\\x00\\x00\\x00\\x00\\x00\\x00\\x01\\x00\\x01\\x00\\x00\\x00\\x00\\x00\\x00\\x00\\x00\\x00\\x00\\x00\\x00\\x00\\x00\\x00\\x00\\x00\\x00\\x00\\x00\\x00\\x00\\x00\\x01\\x00\\x00\\x00\\x00\\x00\\x00\\x00\\x00\\x00\\x00\\x00\\x00\\x00\\x00\\x00\\x00\\x00\\x01\\x01\\x00\\x00 \\x9e\\x8eN\\x01\\xc3\\x00\\x00\\x01\\x00\\x19\\x00b\\x15\\x00\\x00\\xc7\\x03\\x81\\x03\\xcb\\x00\\x19\\x00B\\x00\\x00\\x00\\xab\\x06\\xe2\\x07\\x01\\x00\\x01\\x00\\x01\\x00\\x01\\x00\\x00\\x00\\x00\\x00\\x00\\x00\\x9f\\x03\\x01\\x00\\x01\\x00\\x00\\x00\\x00\\x00\\x01\\x00\\x00@\\n\\x80\\x7f\\xbf\\xe7\\x00\\x00Y[2\\x00\\x0e@\\x00\\x03\\x00\\x00\\x00\\x00\\x00\\x00\\x00\\x00\\x00\\x00\\x00\\x00\\x00\\x00\\x00\\x00\\x00\\x00\\x00\\x01\\xc4,\\x00S\\x00S\\x00\\x1a\\x15\\x1b\\x15!\\x167\\x15#\\x00\\xf7\\x03f\\x15$\\x004\\x00\\xf6\\x15$\\x00o\\x05\\x00\\x00\\x00\\x00\\x00\\x00\\x00\\x00\\x00\\x00\\x00\\x00\\x00\\x00\\x00\\x00\\x00\\x00\\x00\\x00\\x01\\xc5\\x1e\\x00*\\x00\\x1a\\x00\\t\\x00$\\x00;\\x00)\\x00\\r\\x00\"\\x006\\x00\\'\\x00\\r\\x00*\\x00N\\x00D\\x00\\x10\\x00\\x01\\x00\\x01\\x00\\x01\\x00N\\x00\\x18\\x00@\\x01\\x00\\x14\\x19\\x00\\x00\\x00\\x80\\x00 \\x00 \\x00 \\x00\\xe4\\xff \\x00\\xf0\\xffQ\\x00\\xff\\xff\\x05\\x00\\x0b\\x00\\xfd\\xffG\\x00\\x00\\x00\\x00\\x00\\x00\\x00\\x00\\x00\\x00\\x00\\x00\\x00\\x00\\x00\\x00\\x00\\x00\\x00\\x00\\x00\\x01\\xc6\\xf9\\x1e-\\x1fD\\x1fD\\x1f\\x16\\x1d\\x07\\x1e\\x07\\x1e\\xf9\\x1eM\\x1cb\\x13\\x0c\\x03\\x00\\x00\\x00\\x00\\x00\\x00\\x00\\x00\\x00\\x00\\x00\\x00\\x00\\x00\\x00\\x00\\x00\\x00\\x00\\x00\\x01\\xc7\\x00\\x00\\x00\\x00\\xff\\xff\\x01\\x00\\xd8\\xff\\xad\\xc6\\t\\x00^<\\x17\\x00N\\x00W\\x00\\x02\\x00\\x07\\x00\\x00\\x00\\x00\\x00\\x00\\x00\\x00\\x00\\x00\\x00\\x00\\x00\\x00\\x00\\x00\\x00\\x00\\x00\\x00\\x00\\x01\\xcf\\x00\\x00\\x00\\x00\\x00\\x00\\x00\\x00\\x00\\x00\\x00\\x00\\x00\\x00\\x00\\x00\\x00\\x00\\x00\\x00\\x00\\x00\\x00\\x00\\x00\\x00\\x00\\x00\\x00\\x00\\x00\\x00\\x00\\x00\\x00\\x00\\x00\\x00\\x00\\x00\\x00',\n",
       "  40960: b'0100',\n",
       "  40961: 1,\n",
       "  40962: 2048,\n",
       "  40963: 1440,\n",
       "  41986: 0,\n",
       "  41987: 1,\n",
       "  41990: 3},\n",
       " 'GPS': {},\n",
       " 'Interop': {},\n",
       " '1st': {},\n",
       " 'thumbnail': None}"
      ]
     },
     "execution_count": 184,
     "metadata": {},
     "output_type": "execute_result"
    }
   ],
   "source": [
    "exif_dict"
   ]
  },
  {
   "cell_type": "code",
   "execution_count": 182,
   "metadata": {},
   "outputs": [
    {
     "name": "stdout",
     "output_type": "stream",
     "text": [
      "b'2019:05:22 3:44:06'\n",
      "b'2019:01:01 1:20:00'\n",
      "Updated exif datetimes!\n"
     ]
    }
   ],
   "source": [
    "new_dt_str = \"2019:01:01 1:20:00\"\n",
    "# replace exif datetimes with updated value\n",
    "exif_dict[\"0th\"][306] = new_dt_str.encode(\"utf-8\")\n",
    "print(exif_dict['0th'][306])\n",
    "exif_dict[\"Exif\"][36868] = new_dt_str.encode(\"utf-8\")\n",
    "exif_dict[\"Exif\"][36867] = new_dt_str.encode(\"utf-8\")\n",
    "# Convert into bytes and put in image file\n",
    "exif_bytes = piexif.dump(exif_dict)\n",
    "piexif.insert(exif_bytes, image_path)\n",
    "print(f\"Updated exif datetimes!\")"
   ]
  },
  {
   "cell_type": "code",
   "execution_count": 193,
   "metadata": {},
   "outputs": [
    {
     "name": "stdout",
     "output_type": "stream",
     "text": [
      "\n",
      "0th IFD:\n",
      "271 b'RECONYX'\n",
      "272 b'HYPERFIRE 2 COVERT\\x00'\n",
      "282 (72, 1)\n",
      "283 (72, 1)\n",
      "296 2\n",
      "306 b'2019:01:01 1:20:00'\n",
      "531 2\n",
      "34665 173\n",
      "\n",
      "Exif IFD:\n",
      "33434 (25, 9600)\n",
      "34855 100\n",
      "36864 b'0220'\n",
      "36867 b'2019:01:01 1:20:00'\n",
      "36868 b'2019:01:01 1:20:00'\n",
      "37121 b'\\x01\\x02\\x03\\x00'\n",
      "37385 25\n",
      "37500 b'RECONYXH2\\x00\\x01\\xce\\x00\\x00\\x00\\x00\\xe0\\x00d\\x00\\xbaN\\x91\\xa4\\x12\\x01\\x1a\\x98\\xd2|'\n",
      "40960 b'0100'\n",
      "40961 1\n",
      "40962 2048\n",
      "40963 1440\n",
      "41986 0\n",
      "41987 1\n",
      "41990 3\n",
      "\n",
      "GPS IFD:\n",
      "\n",
      "Interop IFD:\n",
      "\n",
      "1st IFD:\n",
      "\n",
      "thumbnail IFD:\n"
     ]
    },
    {
     "ename": "TypeError",
     "evalue": "'NoneType' object is not iterable",
     "output_type": "error",
     "traceback": [
      "\u001b[1;31m---------------------------------------------------------------------------\u001b[0m",
      "\u001b[1;31mTypeError\u001b[0m                                 Traceback (most recent call last)",
      "\u001b[1;32m<ipython-input-193-8370f745e087>\u001b[0m in \u001b[0;36m<module>\u001b[1;34m()\u001b[0m\n\u001b[0;32m      1\u001b[0m \u001b[1;32mfor\u001b[0m \u001b[0mifd_name\u001b[0m \u001b[1;32min\u001b[0m \u001b[0mexif_dict\u001b[0m\u001b[1;33m:\u001b[0m\u001b[1;33m\u001b[0m\u001b[0m\n\u001b[0;32m      2\u001b[0m     \u001b[0mprint\u001b[0m\u001b[1;33m(\u001b[0m\u001b[1;34m\"\\n{0} IFD:\"\u001b[0m\u001b[1;33m.\u001b[0m\u001b[0mformat\u001b[0m\u001b[1;33m(\u001b[0m\u001b[0mifd_name\u001b[0m\u001b[1;33m)\u001b[0m\u001b[1;33m)\u001b[0m\u001b[1;33m\u001b[0m\u001b[0m\n\u001b[1;32m----> 3\u001b[1;33m     \u001b[1;32mfor\u001b[0m \u001b[0mkey\u001b[0m \u001b[1;32min\u001b[0m \u001b[0mexif_dict\u001b[0m\u001b[1;33m[\u001b[0m\u001b[0mifd_name\u001b[0m\u001b[1;33m]\u001b[0m\u001b[1;33m:\u001b[0m\u001b[1;33m\u001b[0m\u001b[0m\n\u001b[0m\u001b[0;32m      4\u001b[0m         \u001b[1;32mtry\u001b[0m\u001b[1;33m:\u001b[0m\u001b[1;33m\u001b[0m\u001b[0m\n\u001b[0;32m      5\u001b[0m             \u001b[0mprint\u001b[0m\u001b[1;33m(\u001b[0m\u001b[0mkey\u001b[0m\u001b[1;33m,\u001b[0m \u001b[0mexif_dict\u001b[0m\u001b[1;33m[\u001b[0m\u001b[0mifd_name\u001b[0m\u001b[1;33m]\u001b[0m\u001b[1;33m[\u001b[0m\u001b[0mkey\u001b[0m\u001b[1;33m]\u001b[0m\u001b[1;33m[\u001b[0m\u001b[1;33m:\u001b[0m\u001b[1;36m30\u001b[0m\u001b[1;33m]\u001b[0m\u001b[1;33m)\u001b[0m\u001b[1;33m\u001b[0m\u001b[0m\n",
      "\u001b[1;31mTypeError\u001b[0m: 'NoneType' object is not iterable"
     ]
    }
   ],
   "source": [
    "for ifd_name in exif_dict:\n",
    "    print(\"\\n{0} IFD:\".format(ifd_name))\n",
    "    for key in exif_dict[ifd_name]:\n",
    "        try:\n",
    "            print(key, exif_dict[ifd_name][key][:30])\n",
    "        except:\n",
    "            print(key, exif_dict[ifd_name][key])"
   ]
  },
  {
   "cell_type": "code",
   "execution_count": 1,
   "metadata": {},
   "outputs": [],
   "source": [
    "import exiftool"
   ]
  },
  {
   "cell_type": "code",
   "execution_count": 9,
   "metadata": {},
   "outputs": [
    {
     "data": {
      "text/plain": [
       "1"
      ]
     },
     "execution_count": 9,
     "metadata": {},
     "output_type": "execute_result"
    }
   ],
   "source": [
    "os.system(\"./data/RCNX0224.JPG\")"
   ]
  },
  {
   "cell_type": "code",
   "execution_count": 11,
   "metadata": {},
   "outputs": [
    {
     "name": "stdout",
     "output_type": "stream",
     "text": [
      "\n"
     ]
    }
   ],
   "source": [
    "print(os.popen(\"exiftool -b -imagesize RCNX0224.JPG\").read())"
   ]
  },
  {
   "cell_type": "code",
   "execution_count": 8,
   "metadata": {},
   "outputs": [
    {
     "name": "stdout",
     "output_type": "stream",
     "text": [
      "Requirement already satisfied: PyExifTool in c:\\users\\natasha\\anaconda3\\envs\\learn-env\\lib\\site-packages (0.1.1)\n"
     ]
    }
   ],
   "source": [
    "!pip install PyExifTool"
   ]
  },
  {
   "cell_type": "code",
   "execution_count": 1,
   "metadata": {},
   "outputs": [],
   "source": [
    "import exiftool\n",
    "import os"
   ]
  },
  {
   "cell_type": "code",
   "execution_count": 2,
   "metadata": {},
   "outputs": [
    {
     "name": "stdout",
     "output_type": "stream",
     "text": [
      "executed exiftool.\n"
     ]
    }
   ],
   "source": []
  },
  {
   "cell_type": "code",
   "execution_count": 18,
   "metadata": {},
   "outputs": [
    {
     "name": "stdout",
     "output_type": "stream",
     "text": [
      "SourceFile ./data/RCNX0224.JPG\n",
      "ExifTool:ExifToolVersion 11.74\n",
      "File:FileName RCNX0224.JPG\n",
      "File:Directory ./data\n",
      "File:FileSize 143600\n",
      "File:FileModifyDate 2019:11:06 08:57:57-08:00\n",
      "File:FileAccessDate 2019:11:06 08:57:57-08:00\n",
      "File:FileCreateDate 2019:05:27 04:33:02-07:00\n",
      "File:FilePermissions 666\n",
      "File:FileType JPEG\n",
      "File:FileTypeExtension JPG\n",
      "File:MIMEType image/jpeg\n",
      "File:ExifByteOrder MM\n",
      "File:ImageWidth 2048\n",
      "File:ImageHeight 1440\n",
      "File:EncodingProcess 0\n",
      "File:BitsPerSample 8\n",
      "File:ColorComponents 3\n",
      "File:YCbCrSubSampling 2 1\n",
      "EXIF:Make RECONYX\n",
      "EXIF:Model HYPERFIRE 2 COVERT\n",
      "EXIF:XResolution 72\n",
      "EXIF:YResolution 72\n",
      "EXIF:ResolutionUnit 2\n",
      "EXIF:ModifyDate 2019:01:01 1:20:00\n",
      "EXIF:YCbCrPositioning 2\n",
      "EXIF:ExposureTime 0.002604166667\n",
      "EXIF:ISO 100\n",
      "EXIF:ExifVersion 0220\n",
      "EXIF:DateTimeOriginal 2019:01:01 1:20:00\n",
      "EXIF:CreateDate 2019:01:01 1:20:00\n",
      "EXIF:ComponentsConfiguration 1 2 3 0\n",
      "EXIF:Flash 25\n",
      "EXIF:FlashpixVersion 0100\n",
      "EXIF:ColorSpace 1\n",
      "EXIF:ExifImageWidth 2048\n",
      "EXIF:ExifImageHeight 1440\n",
      "EXIF:ExposureMode 0\n",
      "EXIF:WhiteBalance 1\n",
      "EXIF:SceneCaptureType 3\n",
      "MakerNotes:FileNumber 224\n",
      "MakerNotes:DirectoryNumber 100\n",
      "MakerNotes:FirmwareVersion 1.4a\n",
      "MakerNotes:FirmwareDate 2018:08:24\n",
      "MakerNotes:TriggerMode M\n",
      "MakerNotes:Sequence 7 10\n",
      "MakerNotes:EventNumber 6\n",
      "MakerNotes:DateTimeOriginal 2019:27:05 03:33:03\n",
      "MakerNotes:DayOfWeek 2\n",
      "MakerNotes:MoonPhase 6\n",
      "MakerNotes:AmbientTemperatureFahrenheit 53\n",
      "MakerNotes:AmbientTemperature 12\n",
      "MakerNotes:Contrast 128\n",
      "MakerNotes:Brightness 0\n",
      "MakerNotes:Sharpness 32\n",
      "MakerNotes:Saturation 0\n",
      "MakerNotes:Flash 1\n",
      "MakerNotes:AmbientInfrared 0\n",
      "MakerNotes:AmbientLight 0\n",
      "MakerNotes:MotionSensitivity 90\n",
      "MakerNotes:BatteryVoltage 4111\n",
      "MakerNotes:BatteryVoltageAvg 7750\n",
      "MakerNotes:BatteryType 1\n",
      "MakerNotes:UserLabel HYPERFIRE 2 COVERT\n",
      "MakerNotes:SerialNumber H2RXEL12027736\n",
      "Composite:ImageSize 2048 1440\n",
      "Composite:Megapixels 2.94912\n",
      "Composite:ShutterSpeed 0.002604166667\n"
     ]
    }
   ],
   "source": [
    "with exiftool.ExifTool() as et:\n",
    "    metadata = et.get_metadata(\"./data/RCNX0224.JPG\")\n",
    "    \n",
    "for k, v in metadata.items():\n",
    "    print(k, v)"
   ]
  },
  {
   "cell_type": "code",
   "execution_count": 14,
   "metadata": {},
   "outputs": [
    {
     "name": "stdout",
     "output_type": "stream",
     "text": [
      "SourceFile ./data/IMG_0073.JPG\n",
      "ExifTool:ExifToolVersion 11.74\n",
      "ExifTool:Warning [minor] Unrecognized MakerNotes\n",
      "File:FileName IMG_0073.JPG\n",
      "File:Directory ./data\n",
      "File:FileSize 985534\n",
      "File:FileModifyDate 2019:11:04 21:57:01-08:00\n",
      "File:FileAccessDate 2019:11:05 14:44:11-08:00\n",
      "File:FileCreateDate 2019:11:05 14:44:11-08:00\n",
      "File:FilePermissions 666\n",
      "File:FileType JPEG\n",
      "File:FileTypeExtension JPG\n",
      "File:MIMEType image/jpeg\n",
      "File:ExifByteOrder II\n",
      "File:ImageWidth 5376\n",
      "File:ImageHeight 3024\n",
      "File:EncodingProcess 0\n",
      "File:BitsPerSample 8\n",
      "File:ColorComponents 3\n",
      "File:YCbCrSubSampling 2 1\n",
      "EXIF:Make Prometheus\n",
      "EXIF:Model BTC-6PXD\n",
      "EXIF:Orientation 1\n",
      "EXIF:XResolution 72\n",
      "EXIF:YResolution 72\n",
      "EXIF:ResolutionUnit 2\n",
      "EXIF:Software 6PXD-V1804270\n",
      "EXIF:ModifyDate 2019:06:03 04:45:33\n",
      "EXIF:YCbCrPositioning 2\n",
      "EXIF:ExposureTime 0.04166666667\n",
      "EXIF:FNumber 2.4\n",
      "EXIF:ExposureProgram 2\n",
      "EXIF:ISO 100\n",
      "EXIF:ExifVersion 0220\n",
      "EXIF:DateTimeOriginal 2019:06:03 04:45:33\n",
      "EXIF:CreateDate 2019:06:03 04:45:33\n",
      "EXIF:ComponentsConfiguration 1 2 3 0\n",
      "EXIF:CompressedBitsPerPixel undef\n",
      "EXIF:ShutterSpeedValue 0.0416385170963488\n",
      "EXIF:ApertureValue 2.39781233414876\n",
      "EXIF:ExposureCompensation 0\n",
      "EXIF:MaxApertureValue 2.29739670999407\n",
      "EXIF:MeteringMode 2\n",
      "EXIF:LightSource 0\n",
      "EXIF:Flash 25\n",
      "EXIF:FocalLength 42\n",
      "EXIF:UserComment M3 ALS0 L74 T74 S0 940IR20 C1 Y33 B0 ST4 NE1 SNAP0\n",
      "EXIF:FlashpixVersion 0100\n",
      "EXIF:ColorSpace 1\n",
      "EXIF:ExifImageWidth 5376\n",
      "EXIF:ExifImageHeight 3024\n",
      "EXIF:InteropIndex R98\n",
      "EXIF:InteropVersion 0100\n",
      "EXIF:FileSource 3\n",
      "EXIF:SceneType 1\n",
      "EXIF:ExposureMode 136\n",
      "EXIF:WhiteBalance 288\n",
      "EXIF:DigitalZoomRatio 1000\n",
      "EXIF:FocalLengthIn35mmFormat 136\n",
      "EXIF:SceneCaptureType 136\n",
      "EXIF:Sharpness 136\n",
      "EXIF:Compression 6\n",
      "EXIF:ThumbnailOffset 1809\n",
      "EXIF:ThumbnailLength 3055\n",
      "EXIF:ThumbnailImage (Binary data 3055 bytes, use -b option to extract)\n",
      "MPF:MPFVersion 0100\n",
      "MPF:NumberOfImages 2\n",
      "MPF:MPImageFlags 8\n",
      "MPF:MPImageFormat 0\n",
      "MPF:MPImageType 65537\n",
      "MPF:MPImageLength 11159\n",
      "MPF:MPImageStart 974375\n",
      "MPF:DependentImage1EntryNumber 0\n",
      "MPF:DependentImage2EntryNumber 0\n",
      "MPF:PreviewImage (Binary data 11159 bytes, use -b option to extract)\n",
      "Composite:Aperture 2.4\n",
      "Composite:ImageSize 5376 3024\n",
      "Composite:Megapixels 16.257024\n",
      "Composite:ScaleFactor35efl 3.23809523809524\n",
      "Composite:ShutterSpeed 0.04166666667\n",
      "Composite:CircleOfConfusion 0.00927899225303233\n",
      "Composite:FOV 15.0789030156231\n",
      "Composite:FocalLength35efl 136\n",
      "Composite:HyperfocalDistance 79.2111880209627\n",
      "Composite:LightValue 7.11103131227333\n"
     ]
    }
   ],
   "source": [
    "with exiftool.ExifTool() as et:\n",
    "    metadata = et.get_metadata(\"./data/IMG_0073.JPG\")\n",
    "    \n",
    "for k, v in metadata.items():\n",
    "    print(k, v)"
   ]
  },
  {
   "cell_type": "code",
   "execution_count": null,
   "metadata": {},
   "outputs": [],
   "source": []
  }
 ],
 "metadata": {
  "kernelspec": {
   "display_name": "learn-env",
   "language": "python",
   "name": "learn-env"
  },
  "language_info": {
   "codemirror_mode": {
    "name": "ipython",
    "version": 3
   },
   "file_extension": ".py",
   "mimetype": "text/x-python",
   "name": "python",
   "nbconvert_exporter": "python",
   "pygments_lexer": "ipython3",
   "version": "3.6.6"
  }
 },
 "nbformat": 4,
 "nbformat_minor": 4
}
