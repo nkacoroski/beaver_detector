{
 "cells": [
  {
   "cell_type": "markdown",
   "metadata": {},
   "source": [
    "# Image Cleaning"
   ]
  },
  {
   "cell_type": "code",
   "execution_count": 206,
   "metadata": {},
   "outputs": [],
   "source": [
    "from exif import Image\n",
    "import datetime"
   ]
  },
  {
   "cell_type": "code",
   "execution_count": 207,
   "metadata": {},
   "outputs": [],
   "source": [
    "\n",
    "\n",
    "with open('images_to_adjust/IMG_1513.JPG', 'rb') as old_image_file:\n",
    "    image = Image(image_file)\n",
    "dt = datetime.datetime.strptime(image.datetime, '%Y:%m:%d %H:%M:%S')\n",
    "new_time = dt + datetime.timedelta(days = 517, hours = 20, minutes = 46)\n",
    "new_dt = new_time.strftime(\"%Y:%m:%d %H:%M:%S\")\n",
    "image.datetime = new_dt\n",
    "image.datetime_digitized = new_dt\n",
    "image.datetime_original = new_dt\n",
    "with open('images_to_adjust/IMG_1513.JPG', 'wb') as new_image_file:\n",
    "    new_image_file.write(image.get_file())"
   ]
  },
  {
   "cell_type": "code",
   "execution_count": 211,
   "metadata": {},
   "outputs": [],
   "source": []
  },
  {
   "cell_type": "code",
   "execution_count": 224,
   "metadata": {},
   "outputs": [],
   "source": []
  },
  {
   "cell_type": "code",
   "execution_count": null,
   "metadata": {},
   "outputs": [],
   "source": []
  }
 ],
 "metadata": {
  "kernelspec": {
   "display_name": "learn-env",
   "language": "python",
   "name": "learn-env"
  },
  "language_info": {
   "codemirror_mode": {
    "name": "ipython",
    "version": 3
   },
   "file_extension": ".py",
   "mimetype": "text/x-python",
   "name": "python",
   "nbconvert_exporter": "python",
   "pygments_lexer": "ipython3",
   "version": "3.6.6"
  }
 },
 "nbformat": 4,
 "nbformat_minor": 4
}
