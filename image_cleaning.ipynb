{
 "cells": [
  {
   "cell_type": "markdown",
   "metadata": {},
   "source": [
    "# Data Preprocessing"
   ]
  },
  {
   "cell_type": "markdown",
   "metadata": {},
   "source": [
    "To clean data before uploading to cloud storage, I need to correct datetimes, rename so all images have a unique name, and crop out information bars."
   ]
  },
  {
   "cell_type": "code",
   "execution_count": 122,
   "metadata": {},
   "outputs": [],
   "source": [
    "import datetime\n",
    "import exif\n",
    "from PIL import Image"
   ]
  },
  {
   "cell_type": "markdown",
   "metadata": {},
   "source": [
    "Images from the Browning camera initially had incorrect datetimes. To calculate the change in datetime, I looked at the datetimes between a trigger image series of incorrect and corrected datetimes. "
   ]
  },
  {
   "cell_type": "code",
   "execution_count": 40,
   "metadata": {},
   "outputs": [
    {
     "data": {
      "text/plain": [
       "datetime.timedelta(517, 74760)"
      ]
     },
     "execution_count": 40,
     "metadata": {},
     "output_type": "execute_result"
    }
   ],
   "source": [
    "time_delta = datetime.datetime(2019, 6, 30, 10, 9, 0) - datetime.datetime(2018, 1, 28, 13, 23, 0)\n",
    "time_delta"
   ]
  },
  {
   "cell_type": "code",
   "execution_count": 70,
   "metadata": {},
   "outputs": [],
   "source": [
    "def change_datetime(old_datetime, time_delta):\n",
    "    \"\"\"Take in old datetime string and change in days, hours, and minutes.\n",
    "    Update datetime with offsets and return as string.\"\"\"\n",
    "    old_dt = datetime.datetime.strptime(str(old_datetime)[2:-1], '%Y:%m:%d %H:%M:%S')\n",
    "    new_dt = old_dt + time_delta\n",
    "    new_dt_str = new_dt.strftime(\"%Y:%m:%d %H:%M:%S\")\n",
    "    return new_dt_str"
   ]
  },
  {
   "cell_type": "code",
   "execution_count": 107,
   "metadata": {},
   "outputs": [],
   "source": [
    "def change_exif_datetimes(image_path, time_delta):\n",
    "    \"\"\"Take in image file and change in days, hours, and minutes.\n",
    "    Change exif datime, datetime_digitized, and datetime_origina\n",
    "    Save file with updated exif dates.\n",
    "    \"\"\"\n",
    "    # open image\n",
    "    img = Image.open(image_path)\n",
    "    # load exif data into dictionary\n",
    "    exif_dict = piexif.load(img.info['exif'])\n",
    "    # generate updated datetime\n",
    "    old_dt_str = exif_dict[\"0th\"][306]\n",
    "    print(old_dt_str)\n",
    "    new_dt_str = change_datetime(old_dt_str, time_delta)\n",
    "    # replace exif datetimes with updated value\n",
    "    exif_dict[\"0th\"][306] = new_dt_str.encode(\"utf-8\")\n",
    "    print(exif_dict['0th'][306])\n",
    "    exif_dict[\"Exif\"][36868] = new_dt_str.encode(\"utf-8\")\n",
    "    exif_dict[\"Exif\"][36867] = new_dt_str.encode(\"utf-8\")\n",
    "    # Workaround for exif dump\n",
    "    exif_dict['Exif'][41988] = 0.\n",
    "    # Convert into bytes and put in image file\n",
    "    exif_bytes = piexif.dump(exif_dict)\n",
    "    piexif.insert(exif_bytes, image_path)\n",
    "    print(f\"Updated exif datetimes!\")\n",
    "    "
   ]
  },
  {
   "cell_type": "code",
   "execution_count": 108,
   "metadata": {},
   "outputs": [],
   "source": [
    "image_path = 'images_to_adjust/IMG_0001.JPG'"
   ]
  },
  {
   "cell_type": "code",
   "execution_count": 110,
   "metadata": {},
   "outputs": [],
   "source": [
    "from exif import Image"
   ]
  },
  {
   "cell_type": "code",
   "execution_count": 111,
   "metadata": {},
   "outputs": [],
   "source": [
    "with open(image_path, 'rb') as image_file:\n",
    "    image = Image(image_file)"
   ]
  },
  {
   "cell_type": "code",
   "execution_count": 112,
   "metadata": {},
   "outputs": [
    {
     "data": {
      "text/plain": [
       "True"
      ]
     },
     "execution_count": 112,
     "metadata": {},
     "output_type": "execute_result"
    }
   ],
   "source": [
    "image.has_exif"
   ]
  },
  {
   "cell_type": "code",
   "execution_count": 113,
   "metadata": {},
   "outputs": [
    {
     "data": {
      "text/plain": [
       "['<unknown EXIF tag 33426>',\n",
       " '_exif_ifd_pointer',\n",
       " '_interoperability_ifd_Pointer',\n",
       " '_segments',\n",
       " 'aperture_value',\n",
       " 'color_space',\n",
       " 'components_configuration',\n",
       " 'compressed_bits_per_pixel',\n",
       " 'compression',\n",
       " 'datetime',\n",
       " 'datetime_digitized',\n",
       " 'datetime_original',\n",
       " 'digital_zoom_ratio',\n",
       " 'exif_version',\n",
       " 'exposure_bias_value',\n",
       " 'exposure_mode',\n",
       " 'exposure_program',\n",
       " 'exposure_time',\n",
       " 'f_number',\n",
       " 'file_source',\n",
       " 'flash',\n",
       " 'flashpix_version',\n",
       " 'focal_length',\n",
       " 'focal_length_in_35mm_film',\n",
       " 'get',\n",
       " 'get_file',\n",
       " 'has_exif',\n",
       " 'jpeg_interchange_format',\n",
       " 'jpeg_interchange_format_length',\n",
       " 'light_source',\n",
       " 'make',\n",
       " 'maker_note',\n",
       " 'max_aperture_value',\n",
       " 'metering_mode',\n",
       " 'model',\n",
       " 'orientation',\n",
       " 'photographic_sensitivity',\n",
       " 'pixel_x_dimension',\n",
       " 'pixel_y_dimension',\n",
       " 'resolution_unit',\n",
       " 'scene_capture_type',\n",
       " 'scene_type',\n",
       " 'sharpness',\n",
       " 'shutter_speed_value',\n",
       " 'software',\n",
       " 'user_comment',\n",
       " 'white_balance',\n",
       " 'x_resolution',\n",
       " 'y_and_c_positioning',\n",
       " 'y_resolution']"
      ]
     },
     "execution_count": 113,
     "metadata": {},
     "output_type": "execute_result"
    }
   ],
   "source": [
    "dir(image)"
   ]
  },
  {
   "cell_type": "code",
   "execution_count": 118,
   "metadata": {},
   "outputs": [],
   "source": [
    "image.datetime = \"2019:01:20 00:21:45\"\n",
    "image.datetime_digitized = \"2019:01:20 00:21:45\"\n",
    "image.datetime_original = \"2019:01:20 00:21:45\""
   ]
  },
  {
   "cell_type": "code",
   "execution_count": 121,
   "metadata": {},
   "outputs": [],
   "source": [
    "with open(\"images_to_adjust/IMG_0001.JPG\", 'wb') as new_image_file:\n",
    "    new_image_file.write(image.get_file())"
   ]
  },
  {
   "cell_type": "code",
   "execution_count": null,
   "metadata": {},
   "outputs": [],
   "source": []
  }
 ],
 "metadata": {
  "kernelspec": {
   "display_name": "learn-env",
   "language": "python",
   "name": "learn-env"
  },
  "language_info": {
   "codemirror_mode": {
    "name": "ipython",
    "version": 3
   },
   "file_extension": ".py",
   "mimetype": "text/x-python",
   "name": "python",
   "nbconvert_exporter": "python",
   "pygments_lexer": "ipython3",
   "version": "3.6.6"
  }
 },
 "nbformat": 4,
 "nbformat_minor": 4
}
